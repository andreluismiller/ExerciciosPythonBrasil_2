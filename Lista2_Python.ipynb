{
  "nbformat": 4,
  "nbformat_minor": 0,
  "metadata": {
    "colab": {
      "name": "Lista2_Python.ipynb",
      "provenance": [],
      "authorship_tag": "ABX9TyM2713NdprtArRQnSGWz6Lm",
      "include_colab_link": true
    },
    "kernelspec": {
      "name": "python3",
      "display_name": "Python 3"
    },
    "language_info": {
      "name": "python"
    }
  },
  "cells": [
    {
      "cell_type": "markdown",
      "metadata": {
        "id": "view-in-github",
        "colab_type": "text"
      },
      "source": [
        "<a href=\"https://colab.research.google.com/github/andreluismiller/ExerciciosPythonBrasil_2/blob/main/Lista2_Python.ipynb\" target=\"_parent\"><img src=\"https://colab.research.google.com/assets/colab-badge.svg\" alt=\"Open In Colab\"/></a>"
      ]
    },
    {
      "cell_type": "code",
      "metadata": {
        "id": "pDibE5E6cxGO"
      },
      "source": [
        "#Exercício 1\n",
        "a = int(input(\"Digite um número inteiro: \"))\n",
        "b = int(input(\"Digite outro número inteiro: \"))\n",
        "\n",
        "if (a > b):\n",
        "  print(\"O maior número é {}\".format(a))\n",
        "else:\n",
        "  print(\"O maior número é {}\".format(b))"
      ],
      "execution_count": null,
      "outputs": []
    },
    {
      "cell_type": "code",
      "metadata": {
        "id": "rKoNWNjRc0xZ"
      },
      "source": [
        "#Exercício 2\n",
        "a = int(input(\"Digite um valor inteiro, positivo ou negativo: \"))\n",
        "\n",
        "if (a >= 0):\n",
        "  print(\"O número {} é positivo\".format(a))\n",
        "else:\n",
        "  print(\"O número {} é negativo\".format(a))"
      ],
      "execution_count": null,
      "outputs": []
    },
    {
      "cell_type": "code",
      "metadata": {
        "id": "MHVIblt8c2i7"
      },
      "source": [
        "#Exercício 3\n",
        "letra = input(\"Digite m para masculino ou f para feminino: \")\n",
        "\n",
        "if (letra == \"m\"):\n",
        "  print(\"M-masculino\")\n",
        "elif (letra == \"f\"):\n",
        "  print(\"F-feminino\")\n",
        "else:\n",
        "  print(\"Sexo inválido\")"
      ],
      "execution_count": null,
      "outputs": []
    },
    {
      "cell_type": "code",
      "metadata": {
        "id": "p7-Inn9uc4eJ"
      },
      "source": [
        "#Exercício 4\n",
        "letra = input(\"Digite uma letra qualquer: \")\n",
        "\n",
        "if ((letra == \"a\") or (letra == \"e\") or (letra == \"i\") or (letra == \"o\") or (letra == \"u\")):\n",
        "  print(\"A letra {} é uma vogal\".format(letra))\n",
        "else:\n",
        "  print(\"A letra {} é uma consoante\".format(letra))"
      ],
      "execution_count": null,
      "outputs": []
    },
    {
      "cell_type": "code",
      "metadata": {
        "id": "arZuQEv7c6Cq"
      },
      "source": [
        "#Exercício 5\n",
        "a = float(input(\"Entre com a primeira nota do aluno: \"))\n",
        "b = float(input(\"Entre com a segunda nota do aluno: \"))\n",
        "media = (a + b) / 2\n",
        "\n",
        "if (media >= 7):\n",
        "  print(\"O aluno foi aprovado\")\n",
        "if (media == 10):\n",
        "  print(\"O aluno foi aprovado com distinção\")\n",
        "else:\n",
        "  print(\"O aluno foi reprovado\")"
      ],
      "execution_count": null,
      "outputs": []
    },
    {
      "cell_type": "code",
      "metadata": {
        "id": "esDbQms8iEiH"
      },
      "source": [
        "#Exercício 6\n",
        "a = int(input(\"Entre com um número inteiro:\"))\n",
        "b = int(input(\"Entre com outro número inteiro:\"))\n",
        "c = int(input(\"Entre mais com um número inteiro:\"))\n",
        "\n",
        "if (a > b and a > c):\n",
        "  print(\"O maior número é {}\".format(a))\n",
        "elif (b> a and b > c):\n",
        "  print(\"o maior número é {}\".format(b))\n",
        "else:\n",
        "  print(\"O maior número é {}\".format(c))\n"
      ],
      "execution_count": null,
      "outputs": []
    },
    {
      "cell_type": "code",
      "metadata": {
        "id": "WWUmVgBdi9DX"
      },
      "source": [
        "#Exercício 7\n",
        "a = int(input(\"Entre com um número inteiro:\"))\n",
        "b = int(input(\"Entre com outro número inteiro:\"))\n",
        "c = int(input(\"Entre mais com um número inteiro:\"))\n",
        "\n",
        "if (a < b and a < c):\n",
        "  print(\"O menor número é {}\".format(a))\n",
        "elif (b < a and b < c):\n",
        "  print(\"o menor número é {}\".format(b))\n",
        "else:\n",
        "  print(\"O menor número é {}\".format(c))\n"
      ],
      "execution_count": null,
      "outputs": []
    },
    {
      "cell_type": "code",
      "metadata": {
        "id": "NEV9yidsjdZG"
      },
      "source": [
        "#Exercício 8\n",
        "p1 = float(input(\"Qual o valor do primeiro produto em R$? \"))\n",
        "p2 = float(input(\"Qual o valor do segundo produto em R$? \"))\n",
        "p3 = float(input(\"Qual o valor do terceiro produto em R$? \"))\n",
        "\n",
        "if (p1 < p2 and p1 < p3):\n",
        "  print(\"Você deve comprar o primeiro produto\")\n",
        "elif (p2 < p1 and p2 < p3):\n",
        "  print(\"Você deve comprar o segundo produto\")\n",
        "else:\n",
        "  print(\"Você deve comprar o terceiro produto\")"
      ],
      "execution_count": null,
      "outputs": []
    },
    {
      "cell_type": "code",
      "metadata": {
        "id": "EAhCaEx_uNOx"
      },
      "source": [
        "#Exercício 9\n",
        "a = [int(x) for x in input().split()]"
      ],
      "execution_count": null,
      "outputs": []
    },
    {
      "cell_type": "code",
      "metadata": {
        "id": "tFNIVnTnzGuP"
      },
      "source": [
        "#Exercício 10\n",
        "a = input(\"Em qual turno você estuda? M para matutino, v para vespertino ou n para noturno\" )\n",
        "if (a == \"m\"):\n",
        "   print(\"Bom dia!\")\n",
        "elif (a == \"v\"):\n",
        "  print(\"Boa tarde!\")\n",
        "else:\n",
        "  print(\"Boa noite!\")"
      ],
      "execution_count": null,
      "outputs": []
    },
    {
      "cell_type": "code",
      "metadata": {
        "id": "KGey1N240_Rh"
      },
      "source": [
        "#Exercício 11\n",
        "salario = float(input(\"Digite o valor de seu salário atual: \"))\n",
        "salario_atual = salario\n",
        "print(\"O valor atual de seu salário é de R$ {}\".format(salario))\n",
        "\n",
        "if (salario_atual <= 280):\n",
        "    print(\"Seu salário sofrerá um acréscimo de 20%\")\n",
        "    print(\"Em termos monetários, voce passará a ganhar R$ {}\".format(salario_atual + (salario_atual*0.20)))\n",
        "    print(\"Com o reajuste, seu salário será de R$ {}\".format(salario_atual + (salario_atual * 0.20)))\n",
        "elif (281 <= salario_atual <= 700):\n",
        "    print(\"Seu salário sofrerá um acréscimo de 15%\")\n",
        "    print(\"Em termos monetários, voce passará a ganhar R$ {}\".format(salario_atual + (salario_atual*0.15)))\n",
        "    print(\"Com o reajuste, seu salário será de R$ {}\".format(salario_atual + (salario_atual * 0.15)))\n",
        "elif (700 <= salario_atual <= 1.500):\n",
        "    print(\"Seu salário sofrerá um acréscimo de 10%\")\n",
        "    print(\"Em termos monetários, voce passará a ganhar R$ {}\".format(salario_atual + (salario_atual*0.10)))\n",
        "    print(\"Com o reajuste, seu salário será de R$ {}\".format(salario_atual + (salario_atual * 0.10)))\n",
        "else:\n",
        "    print(\"Seu salário sofrerá um acréscimo de 0.5%\")\n",
        "    print(\"Em termos monetários, voce passará a ganhar R$ {}\".format(salario_atual + (salario_atual*0.05)))\n",
        "    print(\"Com o reajuste, seu salário será de R$ {}\".format(salario_atual + (salario_atual * 0.05)))"
      ],
      "execution_count": null,
      "outputs": []
    },
    {
      "cell_type": "code",
      "metadata": {
        "id": "TjLiTEKH-byB"
      },
      "source": [
        "#Exercício 12\n",
        "horas = float(input('Digite a quantidade de horas trabalhadas/mês: '))\n",
        "valor_horas = float(input('Digite o valor da hora trabalhada R$: '))\n",
        "\n",
        "salario_bruto = valor_horas * horas\n",
        "inss = 0.1 * salario_bruto\n",
        "fgts = 0.11 * salario_bruto\n",
        "\n",
        "if salario_bruto <= 900:\n",
        "    ir = 0\n",
        "elif salario_bruto > 900 and salario_bruto <= 1500:\n",
        "    ir = 0.05 * salario_bruto\n",
        "elif salario_bruto > 1500 and salario_bruto <= 2500:\n",
        "    ir = 0.1 * salario_bruto\n",
        "elif salario_bruto > 2500:\n",
        "    ir = 0.2 * salario_bruto\n",
        "\n",
        "desc_total = ir + inss\n",
        "liquido =  salario_bruto - desc_total\n",
        "\n",
        "print(f'Salário Bruto: R${salario_bruto:.2f}')\n",
        "print(f'(-) IR (5%): R${ir:.2f}')\n",
        "print(f'(-) INSS (10%): R${inss:.2f}')\n",
        "print(f'FGTS (11%): R${fgts:.2f}')\n",
        "print(f'Total dos descontos: R${desc_total:.2f}')\n",
        "print(f'Salário Líquido: R${liquido:.2f}')\n"
      ],
      "execution_count": null,
      "outputs": []
    },
    {
      "cell_type": "code",
      "metadata": {
        "id": "lN2F4aw8BeQ4"
      },
      "source": [
        "#Exercício 13\n",
        "\n"
      ],
      "execution_count": null,
      "outputs": []
    }
  ]
}